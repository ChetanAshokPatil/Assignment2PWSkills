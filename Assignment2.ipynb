{
 "cells": [
  {
   "cell_type": "code",
   "execution_count": 9,
   "id": "3977e053-711e-4fe1-b492-ab616a6d3f55",
   "metadata": {},
   "outputs": [
    {
     "name": "stdin",
     "output_type": "stream",
     "text": [
      "enter your marks 67\n"
     ]
    },
    {
     "name": "stdout",
     "output_type": "stream",
     "text": [
      "C\n"
     ]
    }
   ],
   "source": [
    "#Que 1\n",
    "marks = int(input(\"enter your marks\"))\n",
    "if marks > 90:\n",
    "    print(\"A\")\n",
    "elif marks > 80 and marks<= 90:\n",
    "    print(\"B\")\n",
    "elif marks >= 60 and marks<= 80:\n",
    "    print(\"C\")\n",
    "else :\n",
    "    print(\"D\")"
   ]
  },
  {
   "cell_type": "code",
   "execution_count": 8,
   "id": "ddb2d525-8635-4edf-b52b-505d80e48296",
   "metadata": {},
   "outputs": [
    {
     "name": "stdin",
     "output_type": "stream",
     "text": [
      "enter cost price 150000\n"
     ]
    },
    {
     "name": "stdout",
     "output_type": "stream",
     "text": [
      "Tax is 22500.0\n"
     ]
    }
   ],
   "source": [
    "#Que 2\n",
    "cost = int(input(\"enter cost price\"))\n",
    "if cost >100000:\n",
    "    print(\"Tax is\", cost * 0.15)\n",
    "elif cost > 50000 and cost <= 100000:\n",
    "    print(\"Tax is\", cost * 0.10)\n",
    "elif cost <= 50000 :\n",
    "    print(\"Tax is\", cost * 0.05)          "
   ]
  },
  {
   "cell_type": "code",
   "execution_count": 7,
   "id": "17374d7c-c9f7-42c2-81cc-b0dbe29e5a89",
   "metadata": {},
   "outputs": [
    {
     "name": "stdin",
     "output_type": "stream",
     "text": [
      "city name Pune\n"
     ]
    },
    {
     "name": "stdout",
     "output_type": "stream",
     "text": [
      "No data found\n"
     ]
    }
   ],
   "source": [
    "#Que 3\n",
    "city = input(\"city name\")\n",
    "if city == \"Delhi\":\n",
    "    print(\"Red Fort\")\n",
    "elif city == \"Agra\":\n",
    "    print(\"Taj Mahal\")\n",
    "elif city == \"Jaipur\":\n",
    "    print(\"Jal Mahal\")\n",
    "else:\n",
    "    print(\"No data found\")"
   ]
  },
  {
   "cell_type": "code",
   "execution_count": 5,
   "id": "d5e2fb40-b860-4afe-9fda-cef9c521887a",
   "metadata": {},
   "outputs": [
    {
     "name": "stdin",
     "output_type": "stream",
     "text": [
      "enter number 11\n"
     ]
    },
    {
     "name": "stdout",
     "output_type": "stream",
     "text": [
      "number out of range\n"
     ]
    }
   ],
   "source": [
    "#Que 4\n",
    "number = int(input(\"enter number\"))\n",
    "if number <= 10 :\n",
    "    print(\"Division is\", number / 3)\n",
    "else :\n",
    "    print (\"number out of range\")"
   ]
  },
  {
   "cell_type": "code",
   "execution_count": 7,
   "id": "5eff314c-355a-4750-99dc-fff4a1532741",
   "metadata": {},
   "outputs": [
    {
     "name": "stdout",
     "output_type": "stream",
     "text": [
      "1 <class 'int'>\n",
      "2 <class 'int'>\n",
      "3 <class 'int'>\n",
      "4 <class 'int'>\n",
      "5 <class 'int'>\n"
     ]
    }
   ],
   "source": [
    "#Que 5 \n",
    "\"\"\"Loops in Python are used to repeat a block of code until a certain condition is met. \n",
    "They allow us to execute the same code multiple times, making the code more efficient and reduces the length of code. \n",
    "There are two types of loops in Python: for loops and while loops.\"\"\"\n",
    "#example for loop\n",
    "l = [1,2,3,4,5]\n",
    "for i in l :\n",
    "    print(i,type(i))"
   ]
  },
  {
   "cell_type": "code",
   "execution_count": 2,
   "id": "314c3ff2-792f-4a2e-9db0-dbeeb144011a",
   "metadata": {},
   "outputs": [
    {
     "name": "stdin",
     "output_type": "stream",
     "text": [
      "enter your number 2\n"
     ]
    },
    {
     "name": "stdout",
     "output_type": "stream",
     "text": [
      "2  *  1 = 2\n",
      "2  *  2 = 4\n",
      "2  *  3 = 6\n",
      "2  *  4 = 8\n",
      "2  *  5 = 10\n",
      "2  *  6 = 12\n",
      "2  *  7 = 14\n",
      "2  *  8 = 16\n",
      "2  *  9 = 18\n",
      "2  *  10 = 20\n"
     ]
    }
   ],
   "source": [
    "#example for while loop\n",
    "n = int(input(\"enter your number\"))\n",
    "i = 1\n",
    "\n",
    "while i <= 10 :\n",
    "    result = n * i\n",
    "    print(n,\" * \", i , \"=\", result)\n",
    "    i = i +1"
   ]
  },
  {
   "cell_type": "code",
   "execution_count": 8,
   "id": "abd5587f-590d-4497-8b1f-8bfcf90cf535",
   "metadata": {},
   "outputs": [
    {
     "name": "stdout",
     "output_type": "stream",
     "text": [
      "*\n",
      "**\n",
      "***\n",
      "****\n",
      "*****\n"
     ]
    }
   ],
   "source": [
    "#Que 6 Tringle pattern, Pyramid Pattern, Diamond pattern\n",
    "# printing a triangle pattern\n",
    "for i in range(1, 6):\n",
    "    for j in range(i):\n",
    "        print(\"*\", end=\"\")\n",
    "    print(\"\")\n",
    "\n"
   ]
  },
  {
   "cell_type": "code",
   "execution_count": 9,
   "id": "e7a2bf40-3007-47a3-9636-23d5b348c23d",
   "metadata": {},
   "outputs": [
    {
     "name": "stdout",
     "output_type": "stream",
     "text": [
      "    *\n",
      "   **\n",
      "  ***\n",
      " ****\n",
      "*****\n"
     ]
    }
   ],
   "source": [
    "# printing a pyramid pattern\n",
    "for i in range(1, 6):\n",
    "    for j in range(5-i):\n",
    "        print(\" \", end=\"\")\n",
    "    for k in range(i):\n",
    "        print(\"*\", end=\"\")\n",
    "    print(\"\")\n"
   ]
  },
  {
   "cell_type": "code",
   "execution_count": 10,
   "id": "ab05ee09-6418-42e6-ae5f-4f6ef0111a4e",
   "metadata": {},
   "outputs": [
    {
     "name": "stdout",
     "output_type": "stream",
     "text": [
      "    *\n",
      "   ***\n",
      "  *****\n",
      " *******\n",
      "*********\n",
      " *******\n",
      "  *****\n",
      "   ***\n",
      "    *\n"
     ]
    }
   ],
   "source": [
    "# printing a diamond pattern\n",
    "for i in range(1, 6):\n",
    "    for j in range(5-i):\n",
    "        print(\" \", end=\"\")\n",
    "    for k in range(2*i-1):\n",
    "        print(\"*\", end=\"\")\n",
    "    print(\"\")\n",
    "for i in range(4, 0, -1):\n",
    "    for j in range(5-i):\n",
    "        print(\" \", end=\"\")\n",
    "    for k in range(2*i-1):\n",
    "        print(\"*\", end=\"\")\n",
    "    print(\"\")\n"
   ]
  },
  {
   "cell_type": "code",
   "execution_count": 12,
   "id": "76dc674d-96f3-4cfb-a02b-7d6459fa323e",
   "metadata": {},
   "outputs": [
    {
     "name": "stdout",
     "output_type": "stream",
     "text": [
      "10\n",
      "9\n",
      "8\n",
      "7\n",
      "6\n",
      "5\n",
      "4\n",
      "3\n",
      "2\n",
      "1\n"
     ]
    }
   ],
   "source": [
    "# Que 7\n",
    "number = 10\n",
    "while number > 0:\n",
    "    print(number)\n",
    "    number -= 1\n"
   ]
  },
  {
   "cell_type": "code",
   "execution_count": null,
   "id": "9428568c-49d2-4cfb-abe1-f6e915bfb7ea",
   "metadata": {},
   "outputs": [],
   "source": []
  }
 ],
 "metadata": {
  "kernelspec": {
   "display_name": "Python 3 (ipykernel)",
   "language": "python",
   "name": "python3"
  },
  "language_info": {
   "codemirror_mode": {
    "name": "ipython",
    "version": 3
   },
   "file_extension": ".py",
   "mimetype": "text/x-python",
   "name": "python",
   "nbconvert_exporter": "python",
   "pygments_lexer": "ipython3",
   "version": "3.10.8"
  }
 },
 "nbformat": 4,
 "nbformat_minor": 5
}
